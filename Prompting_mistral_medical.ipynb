{
  "nbformat": 4,
  "nbformat_minor": 0,
  "metadata": {
    "colab": {
      "private_outputs": true,
      "provenance": [],
      "authorship_tag": "ABX9TyOlyQtZbgyVhPhWL4zq7nEx",
      "include_colab_link": true
    },
    "kernelspec": {
      "name": "python3",
      "display_name": "Python 3"
    },
    "language_info": {
      "name": "python"
    }
  },
  "cells": [
    {
      "cell_type": "markdown",
      "metadata": {
        "id": "view-in-github",
        "colab_type": "text"
      },
      "source": [
        "<a href=\"https://colab.research.google.com/github/MagaliDrumare/Mistral-AI-/blob/main/Prompting_mistral_medical.ipynb\" target=\"_parent\"><img src=\"https://colab.research.google.com/assets/colab-badge.svg\" alt=\"Open In Colab\"/></a>"
      ]
    },
    {
      "cell_type": "code",
      "execution_count": null,
      "metadata": {
        "id": "fwvSm8mbYRZu"
      },
      "outputs": [],
      "source": [
        "pip install mistralai"
      ]
    },
    {
      "cell_type": "code",
      "source": [
        "import os\n",
        "from mistralai.client import MistralClient\n",
        "from mistralai.models.chat_completion import ChatMessage\n",
        "\n",
        "def mistral(user_message,\n",
        "            model=\"mistral-small-latest\",\n",
        "            is_json=False):\n",
        "    client = MistralClient(api_key=\"\")\n",
        "    messages = [ChatMessage(role=\"user\", content=user_message)]\n",
        "\n",
        "    if is_json:\n",
        "        chat_response = client.chat(\n",
        "            model=model,\n",
        "            messages=messages,\n",
        "            response_format={\"type\": \"json_object\"})\n",
        "    else:\n",
        "        chat_response = client.chat(\n",
        "            model=model,\n",
        "            messages=messages)\n",
        "\n",
        "    return chat_response.choices[0].message.content"
      ],
      "metadata": {
        "id": "uD19Cf6lYTSg"
      },
      "execution_count": null,
      "outputs": []
    },
    {
      "cell_type": "markdown",
      "source": [
        "MEDICAL CONDITIONS + DRUGS\n",
        "https://www.paubox.com/blog/100-chatgpt-prompts-for-healthcare-professionals"
      ],
      "metadata": {
        "id": "A-SbqivXqz6Y"
      }
    },
    {
      "cell_type": "code",
      "source": [
        "prompt = \"\"\"\n",
        "    Summarize the causes and risk factors for headache . Create 3 concise explanations with a maximum of 100 words each.\n",
        "    Named three drugs for the headache treatment . Create 3 concise explanations with a maximum of 100 words each.\n",
        "\"\"\""
      ],
      "metadata": {
        "id": "zxQbOiUGZRVl"
      },
      "execution_count": null,
      "outputs": []
    },
    {
      "cell_type": "code",
      "source": [
        "response = mistral(prompt)\n",
        "print(response)"
      ],
      "metadata": {
        "id": "rNOfPBNmmX2X"
      },
      "execution_count": null,
      "outputs": []
    },
    {
      "cell_type": "markdown",
      "source": [
        "MEDICAL NOTES SYNTHESIS"
      ],
      "metadata": {
        "id": "KHebzNx-rFWz"
      }
    },
    {
      "cell_type": "code",
      "source": [
        "medical_notes = \"\"\"\n",
        "A 60-year-old male patient, Mr. Johnson, presented with symptoms\n",
        "of increased thirst, frequent urination, fatigue, and unexplained\n",
        "weight loss. Upon evaluation, he was diagnosed with diabetes,\n",
        "confirmed by elevated blood sugar levels. Mr. Johnson's weight\n",
        "is 210 lbs. He has been prescribed Metformin to be taken twice daily\n",
        "with meals. It was noted during the consultation that the patient is\n",
        "a current smoker.\n",
        "\"\"\""
      ],
      "metadata": {
        "id": "AWAZxB6pZvJX"
      },
      "execution_count": null,
      "outputs": []
    },
    {
      "cell_type": "code",
      "source": [
        "prompt = f\"\"\"\n",
        "Extract information from the following medical notes:\n",
        "{medical_notes}\n",
        "\n",
        "Return json format with the following JSON schema:\n",
        "\n",
        "{{\n",
        "        \"age\": {{\n",
        "            \"type\": \"integer\"\n",
        "        }},\n",
        "        \"gender\": {{\n",
        "            \"type\": \"string\",\n",
        "            \"enum\": [\"male\", \"female\", \"other\"]\n",
        "        }},\n",
        "        \"diagnosis\": {{\n",
        "            \"type\": \"string\",\n",
        "            \"enum\": [\"migraine\", \"diabetes\", \"arthritis\", \"acne\"]\n",
        "        }},\n",
        "        \"weight\": {{\n",
        "            \"type\": \"integer\"\n",
        "        }},\n",
        "        \"smoking\": {{\n",
        "            \"type\": \"string\",\n",
        "            \"enum\": [\"yes\", \"no\"]\n",
        "        }}\n",
        "}}\n",
        "\"\"\""
      ],
      "metadata": {
        "id": "HM6ZJPO9Z1FT"
      },
      "execution_count": null,
      "outputs": []
    },
    {
      "cell_type": "code",
      "source": [
        "response = mistral(prompt, is_json=True)\n",
        "print(response)"
      ],
      "metadata": {
        "id": "wHW2ulAtZ7qY"
      },
      "execution_count": null,
      "outputs": []
    },
    {
      "cell_type": "markdown",
      "source": [
        "MEDICATION LEAFLET"
      ],
      "metadata": {
        "id": "yMDtAO2DrcGi"
      }
    },
    {
      "cell_type": "code",
      "source": [
        "newsletter = \"\"\"\n",
        "Mises en garde et précautions d'emploi\n",
        "En raison de la dose unitaire de paracétamol par comprimé (1 000 mg soit 1 g), cette présentation n'est pas adaptée aux enfants de moins de 50 kg.\n",
        "\n",
        "Les patients doivent être informés qu'ils ne doivent pas prendre d'autres médicaments contenant du paracétamol. La prise de plusieurs doses en une administration peut gravement endommager le foie ; le cas échéant, le patient doit immédiatement appeler un médecin.\n",
        "\n",
        "Chez un enfant traité par 60 mg/kg/jour de paracétamol, l'association d'un autre antipyrétique n'est justifiée qu'en cas d'inefficacité.\n",
        "\n",
        "En cas d'hépatite virale aiguë, il convient d'arrêter le traitement.\n",
        "\n",
        "Précautions d'emploi\n",
        "\n",
        "Le paracétamol doit être administré avec précaution dans les situations suivantes (voir rubrique Posologie et mode d'administration) :\n",
        "\n",
        "Adulte de poids inférieur à 50 kg\n",
        "Insuffisance hépatique légère à modérée\n",
        "Alcoolisme chronique et sevrage récent\n",
        "Insuffisance rénale\n",
        "Syndrome de Gilbert\n",
        "Traitement concomitant avec des médicaments affectant la fonction hépatique (ex : médicaments potentiellement hépatotoxiques, médicaments inducteurs enzymatiques du cytochrome P450 tels que phénobarbital, phénytoïne, carbamazépine, topiramate, rifampicine)\n",
        "Déficit en Glucose-6-Phosphate Déshydrogénase (G6PD) (pouvant conduire à une anémie hémolytique)\n",
        "Déshydratation\n",
        "En cas de réserves basses ou déficit en glutathion hépatique (ex : malnutrition chronique, jeûne, amaigrissement récent, anorexie, cachexie)\n",
        "Personnes âgées\n",
        "La consommation de boissons alcoolisées pendant le traitement est déconseillée.\n",
        "\n",
        "En cas de prise au long cours, de fortes doses, ou d'utilisation incorrecte d'analgésiques chez des patients atteints de céphalées chroniques, des céphalées peuvent apparaître ou s'aggraver ; elles ne doivent pas être traitées par des doses plus élevées de ce médicament. Dans de tels cas, l'utilisation d'analgésiques doit être interrompue sur avis médical.\n",
        "\n",
        "La prudence est recommandée en cas d'administration concomitante de paracétamol et de flucloxacilline en raison d'un risque accru d'acidose métabolique à trou anionique élevé (AMTAE), en particulier chez les patients atteints d'insuffisance rénale sévère, de septicémie, de malnutrition et d'autres sources de déficit en glutathion (par exemple, alcoolisme chronique), ainsi que chez ceux utilisant des doses quotidiennes maximales de paracétamol. Une surveillance étroite, incluant la mesure de la 5-oxoproline urinaire, est recommandée.\n",
        "\"\"\""
      ],
      "metadata": {
        "id": "lQ6e_kl3Z8uI"
      },
      "execution_count": null,
      "outputs": []
    },
    {
      "cell_type": "code",
      "source": [
        "prompt = f\"\"\"\n",
        "You are a commentator. Your task is to write a report on a newsletter.\n",
        "When presented with the newsletter, come up with interesting questions to ask,\n",
        "and answer each question.\n",
        "Afterward, combine all the information and write a report in the markdown\n",
        "format.\n",
        "\n",
        "# Newsletter:\n",
        "{newsletter}\n",
        "\n",
        "# Instructions:\n",
        "## Summarize:\n",
        "In clear and concise language, summarize the key points and themes\n",
        "presented in the newsletter.\n",
        "\n",
        "## Interesting Questions:\n",
        "Generate three distinct and thought-provoking questions that can be\n",
        "asked about the content of the newsletter. For each question:\n",
        "- After \"Q: \", describe the problem\n",
        "- After \"A: \", provide a detailed explanation of the problem addressed\n",
        "in the question.\n",
        "- Enclose the ultimate answer in <>.\n",
        "\n",
        "## Write a analysis report\n",
        "Using the summary and the answers to the interesting questions,\n",
        "create a comprehensive report in Markdown format.\n",
        "\"\"\"\n",
        ""
      ],
      "metadata": {
        "id": "JOUIOdw3oF8M"
      },
      "execution_count": null,
      "outputs": []
    },
    {
      "cell_type": "code",
      "source": [
        "response = mistral(prompt)\n",
        "print(response)"
      ],
      "metadata": {
        "id": "rk0eIjZnoKLS"
      },
      "execution_count": null,
      "outputs": []
    }
  ]
}