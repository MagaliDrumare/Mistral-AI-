{
  "nbformat": 4,
  "nbformat_minor": 0,
  "metadata": {
    "colab": {
      "private_outputs": true,
      "provenance": [],
      "authorship_tag": "ABX9TyNIhVmzySw3KW7i881i7B36",
      "include_colab_link": true
    },
    "kernelspec": {
      "name": "python3",
      "display_name": "Python 3"
    },
    "language_info": {
      "name": "python"
    }
  },
  "cells": [
    {
      "cell_type": "markdown",
      "metadata": {
        "id": "view-in-github",
        "colab_type": "text"
      },
      "source": [
        "<a href=\"https://colab.research.google.com/github/MagaliDrumare/Mistral-AI-/blob/main/Mistral_model.ipynb\" target=\"_parent\"><img src=\"https://colab.research.google.com/assets/colab-badge.svg\" alt=\"Open In Colab\"/></a>"
      ]
    },
    {
      "cell_type": "code",
      "execution_count": null,
      "metadata": {
        "id": "La6Oo6bijdkS"
      },
      "outputs": [],
      "source": [
        "pip install mistralai"
      ]
    },
    {
      "cell_type": "code",
      "source": [
        "import os\n",
        "from mistralai.client import MistralClient\n",
        "from mistralai.models.chat_completion import ChatMessage\n",
        "\n",
        "def mistral(user_message,\n",
        "            model=\"mistral-small-latest\",\n",
        "            is_json=False):\n",
        "    client = MistralClient(api_key=\"\")\n",
        "    messages = [ChatMessage(role=\"user\", content=user_message)]\n",
        "\n",
        "    if is_json:\n",
        "        chat_response = client.chat(\n",
        "            model=model,\n",
        "            messages=messages,\n",
        "            response_format={\"type\": \"json_object\"})\n",
        "    else:\n",
        "        chat_response = client.chat(\n",
        "            model=model,\n",
        "            messages=messages)\n",
        "\n",
        "    return chat_response.choices[0].message.content"
      ],
      "metadata": {
        "id": "SMUZsbpbo3qT"
      },
      "execution_count": null,
      "outputs": []
    },
    {
      "cell_type": "markdown",
      "source": [
        "MISTRAL SMALL => CLASSIFICATION"
      ],
      "metadata": {
        "id": "k1ucPY18pFNA"
      }
    },
    {
      "cell_type": "code",
      "source": [
        "prompt = \"\"\"\n",
        "Classify the following email to determine if it is spam or not.\n",
        "Only respond with the exact text \"Spam\" or \"Not Spam\".\n",
        "\n",
        "# Email:\n",
        "🎉 Urgent! You've Won a $1,000,000 Cash Prize!\n",
        "💰 To claim your prize, please click on the link below:\n",
        "https://bit.ly/claim-your-prize\n",
        "\"\"\""
      ],
      "metadata": {
        "id": "S7tVyK0npDJv"
      },
      "execution_count": null,
      "outputs": []
    },
    {
      "cell_type": "code",
      "source": [
        "mistral(prompt, model=\"mistral-small-latest\")"
      ],
      "metadata": {
        "id": "grspJmi0pQOd"
      },
      "execution_count": null,
      "outputs": []
    },
    {
      "cell_type": "markdown",
      "source": [
        "MISTRAL MEDIUM => TEXT MODIFICATION"
      ],
      "metadata": {
        "id": "g_7BEFz-rRaU"
      }
    },
    {
      "cell_type": "code",
      "source": [
        "prompt = \"\"\"\n",
        "Compose a welcome email for new customers who have just made\n",
        "their first purchase with your product.\n",
        "Start by expressing your gratitude for their business,\n",
        "and then convey your excitement for having them as a customer.\n",
        "Include relevant details about their recent order.\n",
        "Sign the email with \"The Fun Shop Team\".\n",
        "\n",
        "Order details:\n",
        "- Customer name: Anna\n",
        "- Product: hat\n",
        "- Estimate date of delivery: Feb. 25, 2024\n",
        "- Return policy: 30 days\n",
        "\"\"\""
      ],
      "metadata": {
        "id": "q0jWfx-crWfE"
      },
      "execution_count": null,
      "outputs": []
    },
    {
      "cell_type": "code",
      "source": [
        "response_medium = mistral(prompt, model=\"mistral-medium-latest\")"
      ],
      "metadata": {
        "id": "D18E6dRWrciD"
      },
      "execution_count": null,
      "outputs": []
    },
    {
      "cell_type": "code",
      "source": [
        "print(response_medium)"
      ],
      "metadata": {
        "id": "RfWbRahuri8M"
      },
      "execution_count": null,
      "outputs": []
    },
    {
      "cell_type": "markdown",
      "source": [
        "MISTRAL LARGE => EXPAND REPORTING TASK"
      ],
      "metadata": {
        "id": "KCBW_po7rpgg"
      }
    },
    {
      "cell_type": "code",
      "source": [
        "transactions = \"\"\"\n",
        "McDonald's: 8.40\n",
        "Safeway: 10.30\n",
        "Carrefour: 15.00\n",
        "Toys R Us: 20.50\n",
        "Panda Express: 10.20\n",
        "Beanie Baby Outlet: 25.60\n",
        "World Food Wraps: 22.70\n",
        "Stuffed Animals Shop: 45.10\n",
        "Sanrio Store: 85.70\n",
        "\"\"\"\n",
        "\n",
        "prompt = f\"\"\"\n",
        "Given the purchase details, how much did I spend on each category:\n",
        "1) restaurants\n",
        "2) groceries\n",
        "3) stuffed animals and props\n",
        "{transactions}\n",
        "\"\"\""
      ],
      "metadata": {
        "id": "H1bvAgC6r-W3"
      },
      "execution_count": null,
      "outputs": []
    },
    {
      "cell_type": "code",
      "source": [
        "response_small = mistral(prompt, model=\"mistral-small-latest\")\n",
        "print(response_small)"
      ],
      "metadata": {
        "id": "FmSI4gBAr_aF"
      },
      "execution_count": null,
      "outputs": []
    }
  ]
}