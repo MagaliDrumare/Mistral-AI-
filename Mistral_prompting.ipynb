{
  "nbformat": 4,
  "nbformat_minor": 0,
  "metadata": {
    "colab": {
      "private_outputs": true,
      "provenance": [],
      "authorship_tag": "ABX9TyN0EHMMLtKZY2mnjAnoy0zp",
      "include_colab_link": true
    },
    "kernelspec": {
      "name": "python3",
      "display_name": "Python 3"
    },
    "language_info": {
      "name": "python"
    }
  },
  "cells": [
    {
      "cell_type": "markdown",
      "metadata": {
        "id": "view-in-github",
        "colab_type": "text"
      },
      "source": [
        "<a href=\"https://colab.research.google.com/github/MagaliDrumare/Mistral-AI-/blob/main/Prompting_mistral.ipynb\" target=\"_parent\"><img src=\"https://colab.research.google.com/assets/colab-badge.svg\" alt=\"Open In Colab\"/></a>"
      ]
    },
    {
      "cell_type": "code",
      "execution_count": null,
      "metadata": {
        "id": "fwvSm8mbYRZu"
      },
      "outputs": [],
      "source": [
        "pip install mistralai"
      ]
    },
    {
      "cell_type": "code",
      "source": [
        "import os\n",
        "from mistralai.client import MistralClient\n",
        "from mistralai.models.chat_completion import ChatMessage\n",
        "\n",
        "def mistral(user_message,\n",
        "            model=\"mistral-small-latest\",\n",
        "            is_json=False):\n",
        "    client = MistralClient(api_key=\"\")\n",
        "    messages = [ChatMessage(role=\"user\", content=user_message)]\n",
        "\n",
        "    if is_json:\n",
        "        chat_response = client.chat(\n",
        "            model=model,\n",
        "            messages=messages,\n",
        "            response_format={\"type\": \"json_object\"})\n",
        "    else:\n",
        "        chat_response = client.chat(\n",
        "            model=model,\n",
        "            messages=messages)\n",
        "\n",
        "    return chat_response.choices[0].message.content"
      ],
      "metadata": {
        "id": "uD19Cf6lYTSg"
      },
      "execution_count": null,
      "outputs": []
    },
    {
      "cell_type": "code",
      "source": [
        "#from helper import load_mistral_api_key\n",
        "#load_mistral_api_key()"
      ],
      "metadata": {
        "id": "9Hnpp3WmYeRo"
      },
      "execution_count": null,
      "outputs": []
    },
    {
      "cell_type": "code",
      "source": [
        "#from helper import mistral\n",
        "#mistral(\"hello, what can you do?\")"
      ],
      "metadata": {
        "id": "PW9qqF6dYjA_"
      },
      "execution_count": null,
      "outputs": []
    },
    {
      "cell_type": "code",
      "source": [
        "prompt = \"\"\"\n",
        "    You are a bank customer service bot.\n",
        "    Your task is to assess customer intent and categorize customer\n",
        "    inquiry after <<<>>> into one of the following predefined categories:\n",
        "\n",
        "    card arrival\n",
        "    change pin\n",
        "    exchange rate\n",
        "    country support\n",
        "    cancel transfer\n",
        "    charge dispute\n",
        "\n",
        "    If the text doesn't fit into any of the above categories,\n",
        "    classify it as:\n",
        "    customer service\n",
        "\n",
        "    You will only respond with the predefined category.\n",
        "    Do not provide explanations or notes.\n",
        "\n",
        "    ###\n",
        "    Here are some examples:\n",
        "\n",
        "    Inquiry: How do I know if I will get my card, or if it is lost? I am concerned about the delivery process and would like to ensure that I will receive my card as expected. Could you please provide information about the tracking process for my card, or confirm if there are any indicators to identify if the card has been lost during delivery?\n",
        "    Category: card arrival\n",
        "    Inquiry: I am planning an international trip to Paris and would like to inquire about the current exchange rates for Euros as well as any associated fees for foreign transactions.\n",
        "    Category: exchange rate\n",
        "    Inquiry: What countries are getting support? I will be traveling and living abroad for an extended period of time, specifically in France and Germany, and would appreciate any information regarding compatibility and functionality in these regions.\n",
        "    Category: country support\n",
        "    Inquiry: Can I get help starting my computer? I am having difficulty starting my computer, and would appreciate your expertise in helping me troubleshoot the issue.\n",
        "    Category: customer service\n",
        "    ###\n",
        "\n",
        "    <<<\n",
        "    Inquiry: {inquiry}\n",
        "    >>>\n",
        "    Category:\n",
        "\"\"\""
      ],
      "metadata": {
        "id": "zxQbOiUGZRVl"
      },
      "execution_count": null,
      "outputs": []
    },
    {
      "cell_type": "code",
      "source": [
        "response = mistral(f\"Please correct the spelling and grammar of \\\n",
        "this prompt and return a text that is the same prompt,\\\n",
        "with the spelling and grammar fixed: {prompt}\")"
      ],
      "metadata": {
        "id": "XD2IhicaZh9W"
      },
      "execution_count": null,
      "outputs": []
    },
    {
      "cell_type": "code",
      "source": [
        "print(response)"
      ],
      "metadata": {
        "id": "K9au_V3pZnLf"
      },
      "execution_count": null,
      "outputs": []
    },
    {
      "cell_type": "code",
      "source": [
        "medical_notes = \"\"\"\n",
        "A 60-year-old male patient, Mr. Johnson, presented with symptoms\n",
        "of increased thirst, frequent urination, fatigue, and unexplained\n",
        "weight loss. Upon evaluation, he was diagnosed with diabetes,\n",
        "confirmed by elevated blood sugar levels. Mr. Johnson's weight\n",
        "is 210 lbs. He has been prescribed Metformin to be taken twice daily\n",
        "with meals. It was noted during the consultation that the patient is\n",
        "a current smoker.\n",
        "\"\"\""
      ],
      "metadata": {
        "id": "AWAZxB6pZvJX"
      },
      "execution_count": null,
      "outputs": []
    },
    {
      "cell_type": "code",
      "source": [
        "prompt = f\"\"\"\n",
        "Extract information from the following medical notes:\n",
        "{medical_notes}\n",
        "\n",
        "Return json format with the following JSON schema:\n",
        "\n",
        "{{\n",
        "        \"age\": {{\n",
        "            \"type\": \"integer\"\n",
        "        }},\n",
        "        \"gender\": {{\n",
        "            \"type\": \"string\",\n",
        "            \"enum\": [\"male\", \"female\", \"other\"]\n",
        "        }},\n",
        "        \"diagnosis\": {{\n",
        "            \"type\": \"string\",\n",
        "            \"enum\": [\"migraine\", \"diabetes\", \"arthritis\", \"acne\"]\n",
        "        }},\n",
        "        \"weight\": {{\n",
        "            \"type\": \"integer\"\n",
        "        }},\n",
        "        \"smoking\": {{\n",
        "            \"type\": \"string\",\n",
        "            \"enum\": [\"yes\", \"no\"]\n",
        "        }}\n",
        "}}\n",
        "\"\"\""
      ],
      "metadata": {
        "id": "HM6ZJPO9Z1FT"
      },
      "execution_count": null,
      "outputs": []
    },
    {
      "cell_type": "code",
      "source": [
        "response = mistral(prompt, is_json=True)\n",
        "print(response)"
      ],
      "metadata": {
        "id": "wHW2ulAtZ7qY"
      },
      "execution_count": null,
      "outputs": []
    },
    {
      "cell_type": "code",
      "source": [
        "newsletter = \"\"\"\n",
        "European AI champion Mistral AI unveiled new large language models and formed an alliance with Microsoft.\n",
        "\n",
        "What’s new: Mistral AI introduced two closed models, Mistral Large and Mistral Small (joining Mistral Medium, which debuted quietly late last year). Microsoft invested $16.3 million in the French startup, and it agreed to distribute Mistral Large on its Azure platform and let Mistral AI use Azure computing infrastructure. Mistral AI makes the new models available to try for free here and to use on its La Plateforme and via custom deployments.\n",
        "\n",
        "Model specs: The new models’ parameter counts, architectures, and training methods are undisclosed. Like the earlier, open source Mistral 7B and Mixtral 8x7B, they can process 32,000 tokens of input context.\n",
        "\n",
        "Mistral Large achieved 81.2 percent on the MMLU benchmark, outperforming Anthropic’s Claude 2, Google’s Gemini Pro, and Meta’s Llama 2 70B, though falling short of GPT-4. Mistral Small, which is optimized for latency and cost, achieved 72.2 percent on MMLU.\n",
        "Both models are fluent in French, German, Spanish, and Italian. They’re trained for function calling and JSON-format output.\n",
        "Microsoft’s investment in Mistral AI is significant but tiny compared to its $13 billion stake in OpenAI and Google and Amazon’s investments in Anthropic, which amount to $2 billion and $4 billion respectively.\n",
        "Mistral AI and Microsoft will collaborate to train bespoke models for customers including European governments.\n",
        "Behind the news: Mistral AI was founded in early 2023 by engineers from Google and Meta. The French government has touted the company as a home-grown competitor to U.S.-based leaders like OpenAI. France’s representatives in the European Commission argued on Mistral’s behalf to loosen the European Union’s AI Act oversight on powerful AI models.\n",
        "\n",
        "Yes, but: Mistral AI’s partnership with Microsoft has divided European lawmakers and regulators. The European Commission, which already was investigating Microsoft’s agreement with OpenAI for potential breaches of antitrust law, plans to investigate the new partnership as well. Members of President Emmanuel Macron’s Renaissance party criticized the deal’s potential to give a U.S. company access to European users’ data. However, other French lawmakers support the relationship.\n",
        "\n",
        "Why it matters: The partnership between Mistral AI and Microsoft gives the startup crucial processing power for training large models and greater access to potential customers around the world. It gives the tech giant greater access to the European market. And it gives Azure customers access to a high-performance model that’s tailored to Europe’s unique regulatory environment.\n",
        "\n",
        "We’re thinking: Mistral AI has made impressive progress in a short time, especially relative to the resources at its disposal as a startup. Its partnership with a leading hyperscaler is a sign of the tremendous processing and distribution power that remains concentrated in the large, U.S.-headquartered cloud companies.\n",
        "\"\"\""
      ],
      "metadata": {
        "id": "lQ6e_kl3Z8uI"
      },
      "execution_count": null,
      "outputs": []
    },
    {
      "cell_type": "code",
      "source": [
        "prompt = f\"\"\"\n",
        "You are a commentator. Your task is to write a report on a newsletter.\n",
        "When presented with the newsletter, come up with interesting questions to ask,\n",
        "and answer each question.\n",
        "Afterward, combine all the information and write a report in the markdown\n",
        "format.\n",
        "\n",
        "# Newsletter:\n",
        "{newsletter}\n",
        "\n",
        "# Instructions:\n",
        "## Summarize:\n",
        "In clear and concise language, summarize the key points and themes\n",
        "presented in the newsletter.\n",
        "\n",
        "## Interesting Questions:\n",
        "Generate three distinct and thought-provoking questions that can be\n",
        "asked about the content of the newsletter. For each question:\n",
        "- After \"Q: \", describe the problem\n",
        "- After \"A: \", provide a detailed explanation of the problem addressed\n",
        "in the question.\n",
        "- Enclose the ultimate answer in <>.\n",
        "\n",
        "## Write a analysis report\n",
        "Using the summary and the answers to the interesting questions,\n",
        "create a comprehensive report in Markdown format.\n",
        "\"\"\""
      ],
      "metadata": {
        "id": "e0YljaHraJz3"
      },
      "execution_count": null,
      "outputs": []
    },
    {
      "cell_type": "code",
      "source": [
        "response = mistral(prompt)\n",
        "print(response)"
      ],
      "metadata": {
        "id": "gZW1wYWM1DzB"
      },
      "execution_count": null,
      "outputs": []
    }
  ]
}
