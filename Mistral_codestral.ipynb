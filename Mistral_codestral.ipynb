{
  "nbformat": 4,
  "nbformat_minor": 0,
  "metadata": {
    "colab": {
      "private_outputs": true,
      "provenance": [],
      "authorship_tag": "ABX9TyOK8pL8Zqn5A7qm1EuUy0A4",
      "include_colab_link": true
    },
    "kernelspec": {
      "name": "python3",
      "display_name": "Python 3"
    },
    "language_info": {
      "name": "python"
    }
  },
  "cells": [
    {
      "cell_type": "markdown",
      "metadata": {
        "id": "view-in-github",
        "colab_type": "text"
      },
      "source": [
        "<a href=\"https://colab.research.google.com/github/MagaliDrumare/Mistral-AI-/blob/main/Mistral_codestral.ipynb\" target=\"_parent\"><img src=\"https://colab.research.google.com/assets/colab-badge.svg\" alt=\"Open In Colab\"/></a>"
      ]
    },
    {
      "cell_type": "code",
      "source": [
        "pip install mistralai"
      ],
      "metadata": {
        "id": "J4reQbnE3iOA"
      },
      "execution_count": null,
      "outputs": []
    },
    {
      "cell_type": "code",
      "execution_count": null,
      "metadata": {
        "id": "N7ypMAGw2G6L"
      },
      "outputs": [],
      "source": [
        "import os\n",
        "from mistralai.client import MistralClient\n",
        "from mistralai.models.chat_completion import ChatMessage\n",
        "\n",
        "api_key = \"\"\n",
        "\n",
        "client = MistralClient(api_key=api_key)\n",
        "\n",
        "model = \"codestral-latest\"\n",
        "\n",
        "messages = [\n",
        "    ChatMessage(role=\"user\", content=\"Write a function for fibonacci\")\n",
        "]\n",
        "chat_response = client.chat(\n",
        "    model=model,\n",
        "    messages=messages\n",
        ")\n",
        "print(chat_response.choices[0].message.content)"
      ]
    },
    {
      "cell_type": "code",
      "source": [
        "def fibonacci(n):\n",
        "    fib_sequence = [0, 1]\n",
        "    while len(fib_sequence) < n:\n",
        "        fib_sequence.append(fib_sequence[-1] + fib_sequence[-2])\n",
        "    return fib_sequence\n",
        "print(fibonacci(10))"
      ],
      "metadata": {
        "id": "Yz50Wpes3YfG"
      },
      "execution_count": null,
      "outputs": []
    },
    {
      "cell_type": "code",
      "source": [
        "import os\n",
        "from mistralai.client import MistralClient\n",
        "from mistralai.models.chat_completion import ChatMessage\n",
        "\n",
        "api_key = \"ucdyYIa4ojv7yR7pAmxMxOBkrpvoUUmV\"\n",
        "\n",
        "client = MistralClient(api_key=api_key)\n",
        "\n",
        "model = \"codestral-latest\"\n",
        "\n",
        "messages = [\n",
        "    ChatMessage(role=\"user\", content=\"Write a function Hello world with Streamlit\")\n",
        "]\n",
        "chat_response = client.chat(\n",
        "    model=model,\n",
        "    messages=messages\n",
        ")\n",
        "print(chat_response.choices[0].message.content)"
      ],
      "metadata": {
        "id": "omqVhW3-3Ziz"
      },
      "execution_count": null,
      "outputs": []
    },
    {
      "cell_type": "code",
      "source": [
        "import streamlit as st\n",
        "\n",
        "def hello_world():\n",
        "    st.title('Hello, World!')\n",
        "    st.write('This is a simple Streamlit app.')\n",
        "\n",
        "hello_world()\n"
      ],
      "metadata": {
        "id": "E2-Iq8tJ3-5d"
      },
      "execution_count": null,
      "outputs": []
    }
  ]
}